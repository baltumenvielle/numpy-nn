{
  "nbformat": 4,
  "nbformat_minor": 0,
  "metadata": {
    "colab": {
      "provenance": []
    },
    "kernelspec": {
      "name": "python3",
      "display_name": "Python 3"
    },
    "language_info": {
      "name": "python"
    }
  },
  "cells": [
    {
      "cell_type": "code",
      "execution_count": 10,
      "metadata": {
        "id": "OlZu4WwYcOhf"
      },
      "outputs": [],
      "source": [
        "import numpy as np"
      ]
    },
    {
      "cell_type": "code",
      "source": [
        "def relu(z):\n",
        "  return np.maximum(0, z)\n",
        "\n",
        "def forward(w, x, b):\n",
        "  return np.dot(w, x) + b\n",
        "\n",
        "def cross_entropy(y_pred, y):\n",
        "  epsilon = 1e-12 # Evita log(0)\n",
        "  return -np.sum(y * np.log(y_pred + epsilon))\n",
        "\n",
        "def softmax(z):\n",
        "  return np.exp(z) / np.sum(np.exp(z))\n",
        "\n",
        "def relu_derivada(z):\n",
        "  return (z > 0).astype(float)"
      ],
      "metadata": {
        "id": "Sh2Rn9A5cQJx"
      },
      "execution_count": 11,
      "outputs": []
    },
    {
      "cell_type": "code",
      "source": [
        "def fit(x, y, W1, b1, W2, b2):\n",
        "  # Primer paso del forward (hidden layer)\n",
        "  z1 = forward(W1, x, b1)\n",
        "  a1 = relu(z1)\n",
        "\n",
        "  # Segundo y último paso del forward (output layer)\n",
        "  z2 = forward(W2, a1, b2)\n",
        "  y_pred = softmax(z2)\n",
        "\n",
        "  # Propagación retrógrada (gradiente de la salida)\n",
        "  dz2 = y_pred - y\n",
        "  dW2 = np.dot(dz2, a1.T)\n",
        "  db2 = dz2\n",
        "\n",
        "  # Propagación retrógrada (gradiente de la hidden layer)\n",
        "  da1 = np.dot(W2.T, dz2)\n",
        "  dz1 = da1 * relu_derivada(z1)\n",
        "  dW1 = np.dot(dz1, x.T)\n",
        "  db1 = dz1\n",
        "\n",
        "  return dW1, db1, dW2, db2, y_pred"
      ],
      "metadata": {
        "id": "3QnnzkBShITw"
      },
      "execution_count": 12,
      "outputs": []
    },
    {
      "cell_type": "code",
      "source": [
        "import tensorflow as tf\n",
        "\n",
        "(x_train, y_train), (x_test, y_test) = tf.keras.datasets.mnist.load_data() # MNIST"
      ],
      "metadata": {
        "id": "8fj4r6UuiIfp"
      },
      "execution_count": 13,
      "outputs": []
    },
    {
      "cell_type": "code",
      "source": [
        "# Normalización: de [0,255] a [0,1]\n",
        "x_train = x_train.astype(np.float32) / 255.0\n",
        "x_test = x_test.astype(np.float32) / 255.0"
      ],
      "metadata": {
        "id": "VpulJ5mBisuy"
      },
      "execution_count": 14,
      "outputs": []
    },
    {
      "cell_type": "code",
      "source": [
        "# One-hot encoding para las etiquetas\n",
        "y_train = np.eye(10)[y_train]  # (60000, 10)\n",
        "y_test = np.eye(10)[y_test]"
      ],
      "metadata": {
        "id": "Q1_VP9W8i0n7"
      },
      "execution_count": 15,
      "outputs": []
    },
    {
      "cell_type": "code",
      "source": [
        "ciclos = 5\n",
        "learning_rate = 0.01\n",
        "\n",
        "input_size = 784\n",
        "hidden_size = 128\n",
        "output_size = 10"
      ],
      "metadata": {
        "id": "EUubNdiFjMnD"
      },
      "execution_count": 16,
      "outputs": []
    },
    {
      "cell_type": "code",
      "source": [
        "# Inicialización de pesos y sesgos\n",
        "np.random.seed(0)\n",
        "W1 = np.random.randn(hidden_size, input_size) * np.sqrt(2. / input_size)\n",
        "W2 = np.random.randn(output_size, hidden_size) * np.sqrt(2. / hidden_size)\n",
        "b1 = np.zeros((hidden_size, 1))\n",
        "b2 = np.zeros((output_size, 1))"
      ],
      "metadata": {
        "id": "WbjLXbaMjV3z"
      },
      "execution_count": 17,
      "outputs": []
    },
    {
      "cell_type": "code",
      "source": [
        "for ciclo in range(ciclos):\n",
        "  total_loss = 0\n",
        "\n",
        "  for i in range(len(x_train)):\n",
        "\n",
        "    x = x_train[i].reshape(-1, 1)  # Convertir (28,28) a (784,1)\n",
        "    y = y_train[i].reshape(-1, 1) # Vector columna\n",
        "\n",
        "    dW1, db1, dW2, db2, y_pred = fit(x, y, W1, b1, W2, b2)\n",
        "\n",
        "    W1 -= learning_rate * dW1\n",
        "    b1 -= learning_rate * db1\n",
        "    W2 -= learning_rate * dW2\n",
        "    b2 -= learning_rate * db2\n",
        "\n",
        "    total_loss += cross_entropy(y_pred, y)\n",
        "  avg_loss = total_loss / len(x_train)\n",
        "  print(f\"Época {ciclo + 1}/{ciclos} - Pérdida promedio: {avg_loss:.4f}\")"
      ],
      "metadata": {
        "colab": {
          "base_uri": "https://localhost:8080/"
        },
        "id": "NqaiL5uhuR7w",
        "outputId": "8726cf51-0003-4572-f3eb-ef978b154fe7"
      },
      "execution_count": 18,
      "outputs": [
        {
          "output_type": "stream",
          "name": "stdout",
          "text": [
            "Época 1/5 - Pérdida promedio: 0.2115\n",
            "Época 2/5 - Pérdida promedio: 0.0968\n",
            "Época 3/5 - Pérdida promedio: 0.0658\n",
            "Época 4/5 - Pérdida promedio: 0.0482\n",
            "Época 5/5 - Pérdida promedio: 0.0365\n"
          ]
        }
      ]
    },
    {
      "cell_type": "code",
      "source": [
        "correct = 0\n",
        "for i in range(len(x_test)):\n",
        "    x = x_test[i].reshape(-1, 1) # Vector columna\n",
        "    y = y_test[i]\n",
        "\n",
        "    # Forward\n",
        "    z1 = np.dot(W1, x) + b1\n",
        "    a1 = relu(z1)\n",
        "    z2 = np.dot(W2, a1) + b2\n",
        "    y_pred = softmax(z2)\n",
        "\n",
        "    if np.argmax(y_pred) == np.argmax(y):\n",
        "        correct += 1\n",
        "\n",
        "accuracy = correct / len(x_test)\n",
        "print(f\"Precisión en test: {accuracy * 100:.2f}%\")"
      ],
      "metadata": {
        "id": "4OOnktxsmDqs",
        "colab": {
          "base_uri": "https://localhost:8080/"
        },
        "outputId": "df0d28e7-30cd-4c5a-9585-d828385598e6"
      },
      "execution_count": 19,
      "outputs": [
        {
          "output_type": "stream",
          "name": "stdout",
          "text": [
            "Precisión en test: 97.08%\n"
          ]
        }
      ]
    }
  ]
}